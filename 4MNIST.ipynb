{
 "cells": [
  {
   "cell_type": "markdown",
   "metadata": {},
   "source": [
    "# Notebook for texture synthesis for MNIST"
   ]
  },
  {
   "cell_type": "code",
   "execution_count": 1,
   "metadata": {},
   "outputs": [],
   "source": [
    "from synthesis_mnist import *\n",
    "\n",
    "import torchvision.transforms as transforms\n",
    "from torchvision.datasets import MNIST\n",
    "from torch.utils.data import DataLoader\n",
    "\n",
    "# Define the transform to convert the images to tensors and normalize them\n",
    "transform = transforms.Compose([\n",
    "    transforms.ToTensor(),  # Converts image to PyTorch tensor\n",
    "])\n",
    "\n",
    "# Load the MNIST dataset\n",
    "mnist_train = MNIST(root='./data', train=True, download=True, transform=transform)\n",
    "mnist_test = MNIST(root='./data', train=False, download=True, transform=transform)\n",
    "\n",
    "\n",
    "DATASET_IMAGES = 60000\n",
    "\n",
    "# DataLoader\n",
    "train_loader = DataLoader(mnist_train, batch_size=DATASET_IMAGES, shuffle=True)\n",
    "# test_loader = DataLoader(mnist_test, batch_size=32, shuffle=False)\n",
    " \n",
    "# Move the data to the specified device (GPU 0)\n",
    "training_images, training_labels = next(iter(train_loader))\n",
    "# training_images = training_images.view(DATASET_IMAGES,28,28)\n"
   ]
  },
  {
   "cell_type": "markdown",
   "metadata": {},
   "source": [
    "### Define input args"
   ]
  },
  {
   "cell_type": "code",
   "execution_count": 2,
   "metadata": {},
   "outputs": [],
   "source": [
    "import datetime\n",
    "\n",
    "window_size=(28,28)         # Generated image size, (height,width)\n",
    "kernel_size=3                 # history window size\n",
    "visualize=False"
   ]
  },
  {
   "cell_type": "code",
   "execution_count": 3,
   "metadata": {},
   "outputs": [
    {
     "name": "stdout",
     "output_type": "stream",
     "text": [
      "num of selection pool 28647657\n"
     ]
    },
    {
     "ename": "RuntimeError",
     "evalue": "number of categories cannot exceed 2^24",
     "output_type": "error",
     "traceback": [
      "\u001b[0;31m---------------------------------------------------------------------------\u001b[0m",
      "\u001b[0;31mRuntimeError\u001b[0m                              Traceback (most recent call last)",
      "Cell \u001b[0;32mIn[3], line 1\u001b[0m\n\u001b[0;32m----> 1\u001b[0m synthesized_texture \u001b[38;5;241m=\u001b[39m \u001b[43msynthesize_texture\u001b[49m\u001b[43m(\u001b[49m\u001b[43msample\u001b[49m\u001b[38;5;241;43m=\u001b[39;49m\u001b[43mtraining_images\u001b[49m\u001b[43m,\u001b[49m\u001b[43m \u001b[49m\n\u001b[1;32m      2\u001b[0m \u001b[43m                                            \u001b[49m\u001b[43mwindow_size\u001b[49m\u001b[38;5;241;43m=\u001b[39;49m\u001b[43mwindow_size\u001b[49m\u001b[43m,\u001b[49m\u001b[43m \u001b[49m\n\u001b[1;32m      3\u001b[0m \u001b[43m                                            \u001b[49m\u001b[43mkernel_size\u001b[49m\u001b[38;5;241;43m=\u001b[39;49m\u001b[43mkernel_size\u001b[49m\u001b[43m,\u001b[49m\u001b[43m \u001b[49m\n\u001b[1;32m      4\u001b[0m \u001b[43m                                            \u001b[49m\u001b[43mvisualize\u001b[49m\u001b[38;5;241;43m=\u001b[39;49m\u001b[43mvisualize\u001b[49m\u001b[43m)\u001b[49m\n",
      "File \u001b[0;32m~/working/TextureSynthesis/synthesis_mnist.py:204\u001b[0m, in \u001b[0;36msynthesize_texture\u001b[0;34m(sample, window_size, kernel_size, visualize)\u001b[0m\n\u001b[1;32m    202\u001b[0m indices \u001b[38;5;241m=\u001b[39m get_candidate_indices(ssd)\n\u001b[1;32m    203\u001b[0m \u001b[38;5;66;03m# print('incides', indices)\u001b[39;00m\n\u001b[0;32m--> 204\u001b[0m selected_index \u001b[38;5;241m=\u001b[39m \u001b[43mselect_pixel_index\u001b[49m\u001b[43m(\u001b[49m\u001b[43mssd\u001b[49m\u001b[43m,\u001b[49m\u001b[43m \u001b[49m\u001b[43mindices\u001b[49m\u001b[43m)\u001b[49m\n\u001b[1;32m    205\u001b[0m \u001b[38;5;66;03m# print('selected_index', selected_index)\u001b[39;00m\n\u001b[1;32m    206\u001b[0m \n\u001b[1;32m    207\u001b[0m \u001b[38;5;66;03m# Translate index to accommodate padding.\u001b[39;00m\n\u001b[1;32m    208\u001b[0m selected_index \u001b[38;5;241m=\u001b[39m (selected_index[\u001b[38;5;241m0\u001b[39m], selected_index[\u001b[38;5;241m1\u001b[39m], selected_index[\u001b[38;5;241m2\u001b[39m] \u001b[38;5;241m+\u001b[39m kernel_size \u001b[38;5;241m/\u001b[39m\u001b[38;5;241m/\u001b[39m \u001b[38;5;241m2\u001b[39m, selected_index[\u001b[38;5;241m3\u001b[39m] \u001b[38;5;241m+\u001b[39m kernel_size \u001b[38;5;241m/\u001b[39m\u001b[38;5;241m/\u001b[39m \u001b[38;5;241m2\u001b[39m)\n",
      "File \u001b[0;32m~/working/TextureSynthesis/synthesis_mnist.py:83\u001b[0m, in \u001b[0;36mselect_pixel_index\u001b[0;34m(normalized_ssd, indices, method)\u001b[0m\n\u001b[1;32m     80\u001b[0m \u001b[38;5;28mprint\u001b[39m(\u001b[38;5;124m'\u001b[39m\u001b[38;5;124mnum of selection pool\u001b[39m\u001b[38;5;124m'\u001b[39m, N)\n\u001b[1;32m     82\u001b[0m \u001b[38;5;66;03m# Select a random pixel index based on weights\u001b[39;00m\n\u001b[0;32m---> 83\u001b[0m selection \u001b[38;5;241m=\u001b[39m \u001b[43mtorch\u001b[49m\u001b[38;5;241;43m.\u001b[39;49m\u001b[43mmultinomial\u001b[49m\u001b[43m(\u001b[49m\u001b[43mweights\u001b[49m\u001b[43m,\u001b[49m\u001b[43m \u001b[49m\u001b[38;5;241;43m1\u001b[39;49m\u001b[43m)\u001b[49m\u001b[38;5;241m.\u001b[39mitem()\n\u001b[1;32m     84\u001b[0m selected_index \u001b[38;5;241m=\u001b[39m (indices[\u001b[38;5;241m0\u001b[39m][selection], indices[\u001b[38;5;241m1\u001b[39m][selection], indices[\u001b[38;5;241m2\u001b[39m][selection], indices[\u001b[38;5;241m3\u001b[39m][selection])\n\u001b[1;32m     86\u001b[0m \u001b[38;5;28;01mreturn\u001b[39;00m selected_index\n",
      "\u001b[0;31mRuntimeError\u001b[0m: number of categories cannot exceed 2^24"
     ]
    },
    {
     "data": {
      "image/png": "[encoded data removed]",
      "text/plain": [
       "<Figure size 640x480 with 1 Axes>"
      ]
     },
     "metadata": {},
     "output_type": "display_data"
    }
   ],
   "source": [
    "\n",
    "synthesized_texture = synthesize_texture(sample=training_images, \n",
    "                                            window_size=window_size, \n",
    "                                            kernel_size=kernel_size, \n",
    "                                            visualize=visualize)"
   ]
  },
  {
   "cell_type": "code",
   "execution_count": null,
   "metadata": {},
   "outputs": [],
   "source": []
  },
  {
   "cell_type": "code",
   "execution_count": null,
   "metadata": {},
   "outputs": [
    {
     "data": {
      "image/png": "[encoded data removed]",
      "text/plain": [
       "<Figure size 640x480 with 2 Axes>"
      ]
     },
     "metadata": {},
     "output_type": "display_data"
    }
   ],
   "source": [
    "current_time = datetime.datetime.now()\n",
    "formatted_time = current_time.strftime(\"%m-%d_%H:%M:%S\")  # Format: month-day hour:minute\n",
    "out_path=f'outputs/mnist/{formatted_time}.png'\n",
    "\n",
    "fig, [ax1, ax2] = plt.subplots(1,2)\n",
    "ax2.imshow(synthesized_texture.to('cpu'), vmin=0, vmax=1, cmap='grey')\n",
    "ax2.set(title=f'result. kernel={kernel_size}x{kernel_size}')\n",
    "ax2.set_xticks([])\n",
    "ax2.set_yticks([])\n",
    "\n",
    "# Place seed in center of window\n",
    "\n",
    "ph, pw = (window_size[0] // 2) - 1, (window_size[1] // 2) - 1\n",
    "original_seed = synthesized_texture[ph:ph+3, pw:pw+3]\n",
    "ax1.imshow(original_seed.to('cpu'), vmin=0, vmax=1, cmap='grey')\n",
    "ax1.set(title=f'seed. Time: {formatted_time}')\n",
    "ax1.set_xticks([])\n",
    "ax1.set_yticks([])\n",
    "fig.savefig(out_path)\n"
   ]
  }
 ],
 "metadata": {
  "kernelspec": {
   "display_name": "py11_pytorch2",
   "language": "python",
   "name": "python3"
  },
  "language_info": {
   "codemirror_mode": {
    "name": "ipython",
    "version": 3
   },
   "file_extension": ".py",
   "mimetype": "text/x-python",
   "name": "python",
   "nbconvert_exporter": "python",
   "pygments_lexer": "ipython3",
   "version": "3.11.0"
  }
 },
 "nbformat": 4,
 "nbformat_minor": 2
}
