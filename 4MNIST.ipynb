{
 "cells": [
  {
   "cell_type": "markdown",
   "metadata": {},
   "source": [
    "# Notebook for texture synthesis for MNIST"
   ]
  },
  {
   "cell_type": "code",
   "execution_count": 1,
   "metadata": {},
   "outputs": [],
   "source": [
    "import torch\n",
    "import torch.nn.functional as F\n",
    "import torchvision.transforms as transforms\n",
    "from torchvision.datasets import MNIST\n",
    "from torch.utils.data import DataLoader\n",
    "\n",
    "import matplotlib.pyplot as plt\n",
    "from tqdm import tqdm\n",
    "\n",
    "# Define the transform to convert the images to tensors and normalize them\n",
    "transform = transforms.Compose([\n",
    "    transforms.ToTensor(),  # Converts image to PyTorch tensor\n",
    "])\n",
    "\n",
    "# Load the MNIST dataset\n",
    "mnist_train = MNIST(root='./data', train=True, download=True, transform=transform)\n",
    "mnist_test = MNIST(root='./data', train=False, download=True, transform=transform)\n",
    "\n",
    "\n",
    "DATASET_IMAGES = 10000\n",
    "TESTSET_IMAGES = 5000\n",
    "# DataLoader\n",
    "train_loader = DataLoader(mnist_train, batch_size=DATASET_IMAGES, shuffle=True)\n",
    "test_loader = DataLoader(mnist_test, batch_size=TESTSET_IMAGES, shuffle=False)\n",
    " \n",
    "# Move the data to the specified device (GPU 0)\n",
    "training_images, training_labels = next(iter(train_loader))\n",
    "test_images, test_labels = next(iter(test_loader))\n"
   ]
  },
  {
   "cell_type": "markdown",
   "metadata": {},
   "source": [
    "### Define input args"
   ]
  },
  {
   "cell_type": "code",
   "execution_count": 2,
   "metadata": {},
   "outputs": [],
   "source": [
    "import datetime\n",
    "from synthesis_mnist import *\n",
    "import os\n",
    "\n",
    "window_size=(28,28)         # Generated image size, (height,width)\n",
    "kernel_size=5               # history window size\n",
    "seed_size=7\n"
   ]
  },
  {
   "cell_type": "code",
   "execution_count": null,
   "metadata": {},
   "outputs": [
    {
     "name": "stdout",
     "output_type": "stream",
     "text": [
      "randomly selected seed image: 2849\n",
      "Synthesis finished. Time used: 2.6s\n"
     ]
    },
    {
     "name": "stderr",
     "output_type": "stream",
     "text": [
      "/home/derekdong/working/TextureSynthesis/synthesis_mnist.py:271: FutureWarning: You are using `torch.load` with `weights_only=False` (the current default value), which uses the default pickle module implicitly. It is possible to construct malicious pickle data which will execute arbitrary code during unpickling (See https://github.com/pytorch/pytorch/blob/main/SECURITY.md#untrusted-models for more details). In a future release, the default value for `weights_only` will be flipped to `True`. This limits the functions that could be executed during unpickling. Arbitrary objects will no longer be allowed to be loaded via this mode unless they are explicitly allowlisted by the user via `torch.serialization.add_safe_globals`. We recommend you start setting `weights_only=True` for any use case where you don't have full control of the loaded file. Please open an issue on GitHub for any issues related to this experimental feature.\n",
      "  saved_variables = torch.load('SMT_tensors.pt', map_location=torch.device('cuda:0'))\n"
     ]
    },
    {
     "name": "stdout",
     "output_type": "stream",
     "text": [
      "printing SMT nearest neighbours... current window size: 7\n",
      "printing SMT nearest neighbours... current window size: 9\n",
      "printing SMT nearest neighbours... current window size: 11\n",
      "printing SMT nearest neighbours... current window size: 13\n",
      "printing SMT nearest neighbours... current window size: 15\n",
      "printing SMT nearest neighbours... current window size: 17\n"
     ]
    }
   ],
   "source": [
    "\n",
    "current_time = datetime.datetime.now()\n",
    "formatted_time = current_time.strftime(\"%m-%d_%H:%M:%S\")  # Format: month-day hour:minute\n",
    "out_dir=f'outputs/mnist/SSD+SMT_{formatted_time}'\n",
    "if not os.path.exists(out_dir):\n",
    "    os.makedirs(out_dir)\n",
    "\n",
    "ix = torch.randint(0, test_images.shape[0], (1,)).item()\n",
    "print('randomly selected seed image:', ix)\n",
    "test_image = test_images[ix].unsqueeze(0)\n",
    "plt.figure(figsize=(2, 2))\n",
    "plt.imshow(test_image.squeeze().squeeze().cpu(), vmin=0, vmax=1, cmap='grey')\n",
    "plt.title('original image')\n",
    "plt.axis('off')\n",
    "plt.savefig(f'{out_dir}/original_image.png')\n",
    "\n",
    "\n",
    "\n",
    "\n",
    "out_path=f'{out_dir}/final.png'\n",
    "\n",
    "synthesized_texture = synthesize_texture(sample=training_images,\n",
    "                                         test_sample=test_image,\n",
    "                                         window_size=window_size, \n",
    "                                         kernel_size=kernel_size, \n",
    "                                         seed_size=seed_size,\n",
    "                                         use_SMT_filter=False,\n",
    "                                         out_dir=out_dir)\n",
    "\n",
    "\n",
    "synthesized_texture_SMT = synthesize_texture(sample=training_images,\n",
    "                                         test_sample=test_image,\n",
    "                                         window_size=window_size, \n",
    "                                         kernel_size=kernel_size, \n",
    "                                         seed_size=seed_size,\n",
    "                                         use_SMT_filter=True,\n",
    "                                         out_dir=out_dir)\n",
    "\n",
    "\n",
    "\n",
    "\n",
    "\n",
    "\n",
    "\n",
    "fig, [ax1, ax2, ax3] = plt.subplots(1,3)\n",
    "\n",
    "# Place seed in center of window\n",
    "\n",
    "ph, pw = (window_size[0] - seed_size + 1) // 2, (window_size[1] - seed_size + 1) // 2\n",
    "original_seed = synthesized_texture[ph:ph+seed_size, pw:pw+seed_size]\n",
    "\n",
    "ax1.imshow(original_seed.to('cpu'), vmin=0, vmax=1, cmap='grey')\n",
    "ax1.set(title=f'seed: {seed_size}x{seed_size}')\n",
    "ax1.set_xticks([])\n",
    "ax1.set_yticks([])\n",
    "\n",
    "ax2.imshow(synthesized_texture.to('cpu'), vmin=0, vmax=1, cmap='grey')\n",
    "ax2.set(title=f'SSD Only. kernel={kernel_size}')\n",
    "ax2.set_xticks([])\n",
    "ax2.set_yticks([])\n",
    "\n",
    "ax3.imshow(synthesized_texture_SMT.to('cpu'), vmin=0, vmax=1, cmap='grey')\n",
    "ax3.set(title=f'SSD+SMT.  kernel={kernel_size}')\n",
    "ax3.set_xticks([])\n",
    "ax3.set_yticks([])\n",
    "\n",
    "\n",
    "fig.savefig(out_path)\n"
   ]
  },
  {
   "cell_type": "code",
   "execution_count": 4,
   "metadata": {},
   "outputs": [],
   "source": [
    "fig.savefig(out_path)"
   ]
  }
 ],
 "metadata": {
  "kernelspec": {
   "display_name": "py311",
   "language": "python",
   "name": "python3"
  },
  "language_info": {
   "codemirror_mode": {
    "name": "ipython",
    "version": 3
   },
   "file_extension": ".py",
   "mimetype": "text/x-python",
   "name": "python",
   "nbconvert_exporter": "python",
   "pygments_lexer": "ipython3",
   "version": "3.11.0"
  }
 },
 "nbformat": 4,
 "nbformat_minor": 2
}
