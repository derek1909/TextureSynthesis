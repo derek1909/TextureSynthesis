{
 "cells": [
  {
   "cell_type": "markdown",
   "metadata": {},
   "source": [
    "# Test notebook for texture synthesis"
   ]
  },
  {
   "cell_type": "code",
   "execution_count": 1,
   "metadata": {},
   "outputs": [],
   "source": [
    "from synthesis import *\n"
   ]
  },
  {
   "cell_type": "markdown",
   "metadata": {},
   "source": [
    "### Define input args"
   ]
  },
  {
   "cell_type": "code",
   "execution_count": 2,
   "metadata": {},
   "outputs": [],
   "source": [
    "sample_number = 1\n",
    "sample_path=f'pics/{sample_number}.png'\n",
    "\n",
    "import datetime\n",
    "current_time = datetime.datetime.now()\n",
    "formatted_time = current_time.strftime(\"%m-%d_%H-%M\")  # Format: month-day hour:minute\n",
    "\n",
    "window_size=(100,100)         # Generated image size, (height,width)\n",
    "kernel_size=3                 # history window size\n",
    "visualize=False"
   ]
  },
  {
   "cell_type": "code",
   "execution_count": 3,
   "metadata": {},
   "outputs": [
    {
     "name": "stdout",
     "output_type": "stream",
     "text": [
      "Initialization finished. Time used: 0.0s\n",
      "Synthesis finished. Time used: 42.2s\n"
     ]
    },
    {
     "data": {
      "text/plain": [
       "True"
      ]
     },
     "execution_count": 3,
     "metadata": {},
     "output_type": "execute_result"
    }
   ],
   "source": [
    "sample = cv2.imread(sample_path)\n",
    "\n",
    "synthesized_texture = synthesize_texture(original_sample=sample, \n",
    "                                            window_size=window_size, \n",
    "                                            kernel_size=kernel_size, \n",
    "                                            visualize=visualize)\n",
    "\n",
    "out_path=f'outputs/{sample_number}_{formatted_time}.png'\n",
    "cv2.imwrite(out_path, synthesized_texture)\n"
   ]
  },
  {
   "cell_type": "code",
   "execution_count": null,
   "metadata": {},
   "outputs": [],
   "source": []
  }
 ],
 "metadata": {
  "kernelspec": {
   "display_name": "py11_pytorch2",
   "language": "python",
   "name": "python3"
  },
  "language_info": {
   "codemirror_mode": {
    "name": "ipython",
    "version": 3
   },
   "file_extension": ".py",
   "mimetype": "text/x-python",
   "name": "python",
   "nbconvert_exporter": "python",
   "pygments_lexer": "ipython3",
   "version": "3.11.0"
  }
 },
 "nbformat": 4,
 "nbformat_minor": 2
}
