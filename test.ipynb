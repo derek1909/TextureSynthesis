{
 "cells": [
  {
   "cell_type": "markdown",
   "metadata": {},
   "source": [
    "# Test notebook for texture synthesis"
   ]
  },
  {
   "cell_type": "code",
   "execution_count": 1,
   "metadata": {},
   "outputs": [],
   "source": [
    "from synthesis import *\n"
   ]
  },
  {
   "cell_type": "markdown",
   "metadata": {},
   "source": [
    "### Define input args"
   ]
  },
  {
   "cell_type": "code",
   "execution_count": 2,
   "metadata": {},
   "outputs": [],
   "source": [
    "sample_number = 3\n",
    "sample_path=f'pics/{sample_number}.png'\n",
    "\n",
    "import datetime\n",
    "\n",
    "window_size=(800,800)         # Generated image size, (height,width)\n",
    "kernel_size1=19                 # history window size\n",
    "kernel_size2=31                 # history window size\n",
    "visualize=False"
   ]
  },
  {
   "cell_type": "code",
   "execution_count": null,
   "metadata": {},
   "outputs": [],
   "source": []
  },
  {
   "cell_type": "code",
   "execution_count": null,
   "metadata": {},
   "outputs": [],
   "source": []
  },
  {
   "cell_type": "code",
   "execution_count": 3,
   "metadata": {},
   "outputs": [
    {
     "name": "stdout",
     "output_type": "stream",
     "text": [
      "Initialization finished. Time used: 0.1s\n",
      "Synthesis finished. Time used: 1055.6s\n",
      "(800, 800, 3)\n",
      "Initialization finished. Time used: 0.0s\n",
      "Synthesis finished. Time used: 1565.3s\n",
      "(800, 800, 3)\n",
      "Initialization finished. Time used: 0.0s\n",
      "Synthesis finished. Time used: 1046.3s\n",
      "(800, 800, 3)\n",
      "Initialization finished. Time used: 0.0s\n",
      "Synthesis finished. Time used: 1556.2s\n",
      "(800, 800, 3)\n",
      "Initialization finished. Time used: 0.0s\n",
      "Synthesis finished. Time used: 1046.1s\n",
      "(800, 800, 3)\n",
      "Initialization finished. Time used: 0.0s\n",
      "Synthesis finished. Time used: 1560.4s\n",
      "(800, 800, 3)\n",
      "Initialization finished. Time used: 0.0s\n",
      "Synthesis finished. Time used: 1051.7s\n",
      "(800, 800, 3)\n",
      "Initialization finished. Time used: 0.0s\n",
      "Synthesis finished. Time used: 1562.7s\n",
      "(800, 800, 3)\n",
      "Initialization finished. Time used: 0.0s\n",
      "Synthesis finished. Time used: 1214.2s\n",
      "(800, 800, 3)\n",
      "Initialization finished. Time used: 0.0s\n",
      "Synthesis finished. Time used: 1715.7s\n",
      "(800, 800, 3)\n",
      "Initialization finished. Time used: 0.0s\n",
      "Synthesis finished. Time used: 1213.7s\n",
      "(800, 800, 3)\n",
      "Initialization finished. Time used: 0.0s\n",
      "Synthesis finished. Time used: 1715.1s\n",
      "(800, 800, 3)\n",
      "Initialization finished. Time used: 0.0s\n",
      "Synthesis finished. Time used: 1213.9s\n",
      "(800, 800, 3)\n",
      "Initialization finished. Time used: 0.0s\n",
      "Synthesis finished. Time used: 1715.4s\n",
      "(800, 800, 3)\n",
      "Initialization finished. Time used: 0.0s\n",
      "Synthesis finished. Time used: 1214.6s\n",
      "(800, 800, 3)\n",
      "Initialization finished. Time used: 0.0s\n",
      "Synthesis finished. Time used: 1715.8s\n",
      "(800, 800, 3)\n",
      "Initialization finished. Time used: 0.0s\n",
      "Synthesis finished. Time used: 1214.7s\n",
      "(800, 800, 3)\n",
      "Initialization finished. Time used: 0.0s\n",
      "Synthesis finished. Time used: 1715.7s\n",
      "(800, 800, 3)\n",
      "Initialization finished. Time used: 0.0s\n",
      "Synthesis finished. Time used: 1213.8s\n",
      "(800, 800, 3)\n",
      "Initialization finished. Time used: 0.0s\n",
      "Synthesis finished. Time used: 1715.3s\n",
      "(800, 800, 3)\n",
      "Initialization finished. Time used: 0.0s\n",
      "Synthesis finished. Time used: 1214.2s\n",
      "(800, 800, 3)\n",
      "Initialization finished. Time used: 0.0s\n"
     ]
    }
   ],
   "source": [
    "for sample_number in range(1,13):\n",
    "    sample_path=f'pics/{sample_number}.png'\n",
    "\n",
    "    sample = cv2.imread(sample_path)\n",
    "\n",
    "    synthesized_texture = synthesize_texture(original_sample=sample, \n",
    "                                                window_size=window_size, \n",
    "                                                kernel_size=kernel_size1, \n",
    "                                                visualize=visualize)\n",
    "    current_time = datetime.datetime.now()\n",
    "    formatted_time = current_time.strftime(\"%m-%d_%H:%M:%S\")  # Format: month-day hour:minute\n",
    "    out_path=f'outputs/{sample_number}_{formatted_time}.png'\n",
    "    print(synthesized_texture.shape)\n",
    "    cv2.imwrite(out_path, synthesized_texture)\n",
    "\n",
    "\n",
    "    sample = cv2.imread(sample_path)\n",
    "\n",
    "    synthesized_texture = synthesize_texture(original_sample=sample, \n",
    "                                                window_size=window_size, \n",
    "                                                kernel_size=kernel_size2, \n",
    "                                                visualize=visualize)\n",
    "    current_time = datetime.datetime.now()\n",
    "    formatted_time = current_time.strftime(\"%m-%d_%H:%M:%S\")  # Format: month-day hour:minute\n",
    "    out_path=f'outputs/{sample_number}_{formatted_time}.png'\n",
    "    print(synthesized_texture.shape)\n",
    "    cv2.imwrite(out_path, synthesized_texture)\n",
    "\n"
   ]
  },
  {
   "cell_type": "code",
   "execution_count": null,
   "metadata": {},
   "outputs": [
    {
     "name": "stdout",
     "output_type": "stream",
     "text": [
      "Initialization finished. Time used: 0.0s\n"
     ]
    },
    {
     "name": "stdout",
     "output_type": "stream",
     "text": [
      "Synthesis finished. Time used: 1605.5s\n",
      "(800, 800, 3)\n"
     ]
    },
    {
     "data": {
      "text/plain": [
       "True"
      ]
     },
     "execution_count": 4,
     "metadata": {},
     "output_type": "execute_result"
    }
   ],
   "source": []
  }
 ],
 "metadata": {
  "kernelspec": {
   "display_name": "py11_pytorch2",
   "language": "python",
   "name": "python3"
  },
  "language_info": {
   "codemirror_mode": {
    "name": "ipython",
    "version": 3
   },
   "file_extension": ".py",
   "mimetype": "text/x-python",
   "name": "python",
   "nbconvert_exporter": "python",
   "pygments_lexer": "ipython3",
   "version": "3.11.0"
  }
 },
 "nbformat": 4,
 "nbformat_minor": 2
}
