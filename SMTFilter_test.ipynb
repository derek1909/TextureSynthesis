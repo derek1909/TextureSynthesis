{
 "cells": [
  {
   "cell_type": "code",
   "execution_count": 1,
   "metadata": {},
   "outputs": [],
   "source": [
    "import torch\n",
    "import torch.nn.functional as F\n",
    "import torchvision.transforms as transforms\n",
    "from torchvision.datasets import MNIST\n",
    "from torch.utils.data import DataLoader\n",
    "\n",
    "import matplotlib.pyplot as plt\n",
    "from tqdm import tqdm\n",
    "\n",
    "device = 'cuda:0'\n",
    "# Define the transform to convert the images to tensors and normalize them\n",
    "transform = transforms.Compose([\n",
    "    transforms.ToTensor(),  # Converts image to PyTorch tensor\n",
    "])\n",
    "\n",
    "# Load the MNIST dataset\n",
    "mnist_train = MNIST(root='./data', train=True, download=True, transform=transform)\n",
    "mnist_test = MNIST(root='./data', train=False, download=True, transform=transform)\n",
    "\n",
    "\n",
    "DATASET_IMAGES = 60000\n",
    "TESTSET_IMAGES = 500\n",
    "# DataLoader\n",
    "train_loader = DataLoader(mnist_train, batch_size=DATASET_IMAGES, shuffle=True)\n",
    "test_loader = DataLoader(mnist_test, batch_size=TESTSET_IMAGES, shuffle=False)\n",
    " \n",
    "# Move the data to the specified device (GPU 0)\n",
    "training_images, training_labels = next(iter(train_loader))\n",
    "test_images, test_labels = next(iter(test_loader))\n"
   ]
  },
  {
   "cell_type": "code",
   "execution_count": 2,
   "metadata": {},
   "outputs": [
    {
     "name": "stderr",
     "output_type": "stream",
     "text": [
      "/tmp/ipykernel_814131/874041833.py:1: FutureWarning: You are using `torch.load` with `weights_only=False` (the current default value), which uses the default pickle module implicitly. It is possible to construct malicious pickle data which will execute arbitrary code during unpickling (See https://github.com/pytorch/pytorch/blob/main/SECURITY.md#untrusted-models for more details). In a future release, the default value for `weights_only` will be flipped to `True`. This limits the functions that could be executed during unpickling. Arbitrary objects will no longer be allowed to be loaded via this mode unless they are explicitly allowlisted by the user via `torch.serialization.add_safe_globals`. We recommend you start setting `weights_only=True` for any use case where you don't have full control of the loaded file. Please open an issue on GitHub for any issues related to this experimental feature.\n",
      "  saved_variables = torch.load('SMT_tensors.pt', map_location=torch.device('cuda:0'))\n"
     ]
    }
   ],
   "source": [
    "saved_variables = torch.load('SMT_tensors.pt', map_location=torch.device('cuda:0'))\n",
    "hop_length = saved_variables['hop_length']\n",
    "COLOR_NUM = saved_variables['COLOR_NUM']\n",
    "whiteMat = saved_variables['whiteMat']\n",
    "basis1 = saved_variables['basis1']\n",
    "P_star = saved_variables['P_star']\n",
    "threshold = saved_variables['threshold']\n",
    "batch_size = saved_variables['batch_size']\n",
    "PATCH_SIZE = saved_variables['PATCH_SIZE']"
   ]
  },
  {
   "cell_type": "code",
   "execution_count": 3,
   "metadata": {},
   "outputs": [],
   "source": [
    "from einops import rearrange\n",
    "\n",
    "def unfold_image(imgs,PATCH_SIZE=6,hop_length=2,color_num=3):\n",
    "    \"\"\"\n",
    "    Unfold each image in imgs into a bag of patches.\n",
    "    Args:\n",
    "        imgs: Image with dimension [bsz, c, h, w].\n",
    "        PATCH_SIZE: patch size for each image patch after unfolding, p_h and p_w stands for the height and width of the patch.\n",
    "    Returns:\n",
    "        bag_of_patche: List of image patches with size [bsz, c, p_h, p_w, num_patches]. Each patch has the shape [c, p_h, p_w]\n",
    "    \"\"\"\n",
    "    bag_of_patches = F.unfold(imgs, PATCH_SIZE, stride=hop_length)\n",
    "    bag_of_patches = rearrange(bag_of_patches,\"bsz (c p_h p_w) b -> bsz c p_h p_w b\",c=color_num,p_h=PATCH_SIZE)\n",
    "    return bag_of_patches\n",
    "\n",
    "\n",
    "# essential function to implement SMT\n",
    "def sparsify_general1(x, basis, t = 0.3):\n",
    "    \"\"\"\n",
    "    This function gives the general sparse feature for image patch x. We calculte the cosine similarity between\n",
    "    each image patch x and each dictionary element in basis. If the similarity pass threshold t, then the activation\n",
    "    is 0, else, the actiavtion is 0.\n",
    "\n",
    "    Assume both x and basis is normalized.\n",
    "\n",
    "    Args:\n",
    "        x: Flattened image patches with dimension [bsz, p_w*p_h*c].\n",
    "        basis: dictionary/codebook with dimension [p_w*p_h*c,num_dict_element], each column of the basis is a dictionary element.\n",
    "        t: threshold\n",
    "    Returns:\n",
    "        bag_of_patche: List of image patches with size [bsz, c, ps, ps, num_patches]. Each patch has the shape [c, ps, ps]\n",
    "    \"\"\"\n",
    "\n",
    "    a = (torch.mm(basis.t(), x) > t).float()\n",
    "    # plt.imshow(a.cpu())\n",
    "    # error\n",
    "    return a\n",
    "\n"
   ]
  },
  {
   "cell_type": "code",
   "execution_count": 12,
   "metadata": {},
   "outputs": [
    {
     "name": "stderr",
     "output_type": "stream",
     "text": [
      "  0%|          | 0/6000 [00:00<?, ?it/s]"
     ]
    },
    {
     "name": "stdout",
     "output_type": "stream",
     "text": [
      "torch.Size([10, 1, 6, 6, 529])\n",
      "temp torch.Size([350, 5290])\n",
      "RG 23\n",
      "temp torch.Size([10, 350, 23, 23])\n"
     ]
    },
    {
     "name": "stderr",
     "output_type": "stream",
     "text": [
      "\n"
     ]
    },
    {
     "ename": "NameError",
     "evalue": "name 'error' is not defined",
     "output_type": "error",
     "traceback": [
      "\u001b[0;31m---------------------------------------------------------------------------\u001b[0m",
      "\u001b[0;31mNameError\u001b[0m                                 Traceback (most recent call last)",
      "Cell \u001b[0;32mIn[12], line 38\u001b[0m\n\u001b[1;32m     36\u001b[0m temp \u001b[38;5;241m=\u001b[39m rearrange(temp,\u001b[38;5;124m\"\u001b[39m\u001b[38;5;124mc (b2 h w) -> b2 c h w\u001b[39m\u001b[38;5;124m\"\u001b[39m,b2\u001b[38;5;241m=\u001b[39mbatch_size,h\u001b[38;5;241m=\u001b[39mRG)\n\u001b[1;32m     37\u001b[0m \u001b[38;5;28mprint\u001b[39m(\u001b[38;5;124m'\u001b[39m\u001b[38;5;124mtemp\u001b[39m\u001b[38;5;124m'\u001b[39m,temp\u001b[38;5;241m.\u001b[39mshape)\n\u001b[0;32m---> 38\u001b[0m \u001b[43merror\u001b[49m\n\u001b[1;32m     39\u001b[0m \u001b[38;5;66;03m#     apply spatial pooling\u001b[39;00m\n\u001b[1;32m     40\u001b[0m temp_train_1[idx:idx\u001b[38;5;241m+\u001b[39mbatch_size,\u001b[38;5;241m.\u001b[39m\u001b[38;5;241m.\u001b[39m\u001b[38;5;241m.\u001b[39m] \u001b[38;5;241m=\u001b[39m F\u001b[38;5;241m.\u001b[39madaptive_avg_pool2d(F\u001b[38;5;241m.\u001b[39mavg_pool2d(temp, kernel_size \u001b[38;5;241m=\u001b[39m \u001b[38;5;241m5\u001b[39m, stride \u001b[38;5;241m=\u001b[39m \u001b[38;5;241m3\u001b[39m), output_w)\n",
      "\u001b[0;31mNameError\u001b[0m: name 'error' is not defined"
     ]
    }
   ],
   "source": [
    "#     unfold each image into a bag of patches\n",
    "# idx=10\n",
    "output_w=4\n",
    "IMAGE_SIZE = 28\n",
    "num_dim = 350\n",
    "\n",
    "RG = int((IMAGE_SIZE-PATCH_SIZE)/hop_length)+1\n",
    "\n",
    "temp_train_1 = torch.zeros([training_images.size(0),num_dim,output_w,output_w])\n",
    "\n",
    "\n",
    "for idx in tqdm(range(0,training_images.size(0), batch_size)):\n",
    "# for idx in range(0,training_images.size(0), batch_size):\n",
    "\n",
    "    patches = unfold_image(training_images[idx:idx+batch_size].to(device),PATCH_SIZE=PATCH_SIZE,hop_length=hop_length,color_num=COLOR_NUM)\n",
    "\n",
    "    print(patches.shape)\n",
    "    #     demean/center each image patch\n",
    "    patches = patches.sub(patches.mean((2,3),keepdim =True))\n",
    "    #     aggregate all patches into together (squeeze into one dimension).\n",
    "    x = rearrange(patches,\"bsz c p_h p_w b  ->bsz (c p_h p_w) b \")\n",
    "    x_flat = rearrange(x,\"bsz p_d hw -> p_d (bsz hw)\")\n",
    "    #     apply whiten transform to each image patch\n",
    "    x_flat = torch.mm(whiteMat, x_flat)\n",
    "    #     normalize each image patch\n",
    "    x_flat = x_flat.div(x_flat.norm(dim = 0, keepdim=True)+1e-9)\n",
    "    #     extract sparse feature vector ahat from each image patch, sparsify_general1 is f_gq in the paper\n",
    "    ahat = sparsify_general1(x_flat, basis1, t=threshold)\n",
    "    # ahat = one_sparse(x_flat, basis1)\n",
    "    #     project the sparse code into the spectral embeddings\n",
    "    temp = torch.mm(P_star, ahat)\n",
    "    temp = temp.div(temp.norm(dim=0, keepdim=True)+ 1e-9)\n",
    "    print('temp',temp.shape)\n",
    "    print('RG',RG)\n",
    "\n",
    "    temp = rearrange(temp,\"c (b2 h w) -> b2 c h w\",b2=batch_size,h=RG)\n",
    "    print('temp',temp.shape)\n",
    "    error\n",
    "    #     apply spatial pooling\n",
    "    temp_train_1[idx:idx+batch_size,...] = F.adaptive_avg_pool2d(F.avg_pool2d(temp, kernel_size = 5, stride = 3), output_w)\n",
    "\n",
    "print(temp_train_1.shape)\n"
   ]
  },
  {
   "cell_type": "code",
   "execution_count": null,
   "metadata": {},
   "outputs": [],
   "source": []
  },
  {
   "cell_type": "code",
   "execution_count": 9,
   "metadata": {},
   "outputs": [
    {
     "name": "stdout",
     "output_type": "stream",
     "text": [
      "num_test_images 1\n",
      "num_train_images 59997\n",
      "training_images torch.Size([60000, 1, 28, 28])\n"
     ]
    },
    {
     "data": {
      "text/plain": [
       "<matplotlib.image.AxesImage at 0x7f3312a33550>"
      ]
     },
     "execution_count": 9,
     "metadata": {},
     "output_type": "execute_result"
    },
    {
     "data": {
      "image/png": "[encoded data removed]",
      "text/plain": [
       "<Figure size 640x480 with 1 Axes>"
      ]
     },
     "metadata": {},
     "output_type": "display_data"
    },
    {
     "data": {
      "image/png": "[encoded data removed]",
      "text/plain": [
       "<Figure size 640x480 with 1 Axes>"
      ]
     },
     "metadata": {},
     "output_type": "display_data"
    }
   ],
   "source": [
    "\n",
    "\n",
    "\n",
    "\n",
    "def softknn_SMT_filter(test_features,train_features,k=30,T=0.03,max_distance_matrix_size=int(5e6),distance_fx: str = \"cosine\",epsilon: float = 0.00001):\n",
    "\n",
    "    if distance_fx == \"cosine\":\n",
    "        train_features = F.normalize(train_features)\n",
    "        test_features = F.normalize(test_features)\n",
    "\n",
    "    num_train_images = train_features.shape[0]\n",
    "    num_test_images = test_features.shape[0]\n",
    "    print('num_test_images',num_test_images)\n",
    "    print('num_train_images',num_train_images)\n",
    "\n",
    "    k = min(k, num_train_images)\n",
    "\n",
    "    # calculate the dot product and compute top-k neighbors\n",
    "    if distance_fx == \"cosine\":\n",
    "        similarities = torch.mm(test_features, train_features.t())\n",
    "    elif distance_fx == \"euclidean\":\n",
    "        similarities = 1 / (torch.cdist(test_features, train_features) + epsilon)\n",
    "    else:\n",
    "        raise NotImplementedError\n",
    "\n",
    "    similarities, train_indices = similarities.topk(k, largest=True, sorted=True)\n",
    "    # print(train_features.shape)\n",
    "    # print(similarities.shape)\n",
    "    # print(indices.shape)\n",
    "\n",
    "    return train_indices\n",
    "\n",
    "\n",
    "indices = softknn_SMT_filter(temp_train_1.flatten(1)[0].unsqueeze(0),temp_train_1.flatten(1)[3:])\n",
    "\n",
    "print('training_images',training_images.shape)\n",
    "test_img_idx = 0\n",
    "plt.figure()\n",
    "plt.imshow(training_images[test_img_idx].squeeze())\n",
    "plt.figure()\n",
    "plt.imshow(training_images[indices[test_img_idx,0]+3].squeeze())"
   ]
  },
  {
   "cell_type": "code",
   "execution_count": 31,
   "metadata": {},
   "outputs": [
    {
     "name": "stdout",
     "output_type": "stream",
     "text": [
      "Shape after avg_pool2d: torch.Size([1, 350, 2, 2])\n",
      "Shape after adaptive_avg_pool2d: torch.Size([1, 350, 4, 4])\n"
     ]
    },
    {
     "data": {
      "image/png": "[encoded data removed]",
      "text/plain": [
       "<Figure size 640x480 with 1 Axes>"
      ]
     },
     "metadata": {},
     "output_type": "display_data"
    }
   ],
   "source": [
    "import torch\n",
    "import torch.nn.functional as F\n",
    "\n",
    "# Example tensor with shape (batch_size, channels, height, width)\n",
    "# Batch size = 1, Channels = 350, Height = 5, Width = 5 (minimum to work with kernel size 5)\n",
    "RG = 2\n",
    "temp = torch.randn(1, 350, RG, RG)\n",
    "# plt.figure()\n",
    "# plt.imshow(temp[0,0])\n",
    "\n",
    "# Apply avg_pool2d with kernel_size=5 and stride=3\n",
    "# pooled = F.avg_pool2d(temp, kernel_size=5, stride=2)\n",
    "\n",
    "# Print shape after avg_pool2d\n",
    "print(\"Shape after avg_pool2d:\", pooled.shape)\n",
    "\n",
    "# Apply adaptive_avg_pool2d to output a fixed spatial size (e.g., 2x2)\n",
    "output_w = 4\n",
    "pooled_adaptive = F.adaptive_avg_pool2d(temp, output_w)\n",
    "plt.figure()\n",
    "plt.imshow(pooled_adaptive[0,0])\n",
    "# Print shape after adaptive_avg_pool2d\n",
    "print(\"Shape after adaptive_avg_pool2d:\", pooled_adaptive.shape)"
   ]
  }
 ],
 "metadata": {
  "kernelspec": {
   "display_name": "py311",
   "language": "python",
   "name": "python3"
  },
  "language_info": {
   "codemirror_mode": {
    "name": "ipython",
    "version": 3
   },
   "file_extension": ".py",
   "mimetype": "text/x-python",
   "name": "python",
   "nbconvert_exporter": "python",
   "pygments_lexer": "ipython3",
   "version": "3.11.0"
  }
 },
 "nbformat": 4,
 "nbformat_minor": 2
}
